{
  "nbformat": 4,
  "nbformat_minor": 0,
  "metadata": {
    "colab": {
      "provenance": [],
      "authorship_tag": "ABX9TyNvdxQbKZvpq1oZH0Hetc28",
      "include_colab_link": true
    },
    "kernelspec": {
      "name": "python3",
      "display_name": "Python 3"
    },
    "language_info": {
      "name": "python"
    }
  },
  "cells": [
    {
      "cell_type": "markdown",
      "metadata": {
        "id": "view-in-github",
        "colab_type": "text"
      },
      "source": [
        "<a href=\"https://colab.research.google.com/github/Gison43/Virtual_Assistant_2024/blob/main/tell_time2.ipynb\" target=\"_parent\"><img src=\"https://colab.research.google.com/assets/colab-badge.svg\" alt=\"Open In Colab\"/></a>"
      ]
    },
    {
      "cell_type": "code",
      "execution_count": 62,
      "metadata": {
        "id": "9aOYhiTAI91J",
        "colab": {
          "base_uri": "https://localhost:8080/"
        },
        "outputId": "e1edda16-200b-4201-ac8e-89362c303698"
      },
      "outputs": [
        {
          "output_type": "stream",
          "name": "stdout",
          "text": [
            "It is February\n"
          ]
        }
      ],
      "source": [
        "from datetime import datetime as dt, date\n",
        "\n",
        "today = dt.now()\n",
        "\n",
        "def what_is_time():\n",
        "  tts(f\"current time is {today: %H %M %p}\")\n",
        "\n",
        "def how_old():\n",
        "  birthdatetime = dt(1978,7,15)\n",
        "  age_days = (today - birthdatetime).days\n",
        "  years_old = age_days // 365\n",
        "  tts(f\"You are {years_old} years old.\")\n",
        "\n",
        "def when_birthday():\n",
        "  today = dt.now().date()\n",
        "  birthdate = dt(today.year, 7, 15).date()\n",
        "  if today > birthdate:\n",
        "    next_birthday = dt.date(today.year + 1, 7, 15)\n",
        "\n",
        "  else:\n",
        "    next_birthday = birthdate\n",
        "\n",
        "  days_until_birthday = (next_birthday - today).days\n",
        "\n",
        "  tts(f\"Your birthday is in {days_until_birthday} days.\")\n",
        "\n",
        "def current_year():\n",
        "  current_year = today.date()\n",
        "  tts(f\"It is the year {current_year:%Y}.\")\n",
        "\n",
        "def what_is_day():\n",
        "  current_day = today.date()\n",
        "  tts(f\"Today is {current_day:%A}\")\n",
        "\n",
        "def day_number():\n",
        "  day_number = today.date()\n",
        "  tts(f\"It is day number {day_number:%j} of the year {day_number:%Y}\")\n",
        "\n",
        "def what_is_date():\n",
        "  current_date = today.date()\n",
        "  tts(f\"It is{current_date: %A}, {current_date:%B}{current_date: %d}, {current_date:%Y}\")\n",
        "\n",
        "def what_month():\n",
        "  current_month = today.date()\n",
        "  tts(f\"It is{current_month: %B}\")\n",
        "\n",
        "def days_from_now(year, month,day):\n",
        "  #get the current date\n",
        "  current_date = today.date()\n",
        "\n",
        "  #create a date time object for future date\n",
        "  future_date = dt(year, month, day).date()\n",
        "\n",
        "  #calculate the difference in days between the future and the current date\n",
        "  difference = (future_date - current_date).days\n",
        "  tts(f\"There are {difference}days remaining until {future_date:%B %d %Y}\")\n"
      ]
    },
    {
      "cell_type": "markdown",
      "source": [],
      "metadata": {
        "id": "ar09X_iBJsXZ"
      }
    }
  ]
}
